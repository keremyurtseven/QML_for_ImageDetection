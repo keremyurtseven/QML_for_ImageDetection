{
 "cells": [
  {
   "cell_type": "code",
   "execution_count": 25,
   "id": "93b2f309",
   "metadata": {},
   "outputs": [],
   "source": [
    "import qiskit\n",
    "import qiskit_aer\n",
    "import qiskit_ibm_runtime\n",
    "import qiskit_machine_learning\n",
    "from deepface import DeepFace\n",
    "import cv2\n",
    "import matplotlib.pyplot as plt\n",
    "import numpy as np\n",
    "import pandas as pd\n",
    "import seaborn as sn\n",
    "import os\n",
    "import sys\n",
    "from sklearn.preprocessing import StandardScaler\n",
    "from sklearn.manifold import TSNE"
   ]
  },
  {
   "cell_type": "code",
   "execution_count": 27,
   "id": "7d98b837",
   "metadata": {},
   "outputs": [],
   "source": [
    "original_path = \"Test/Test\"\n",
    "\n",
    "if(not os.path.exists(original_path + \"/face_pixels\")):\n",
    "    os.mkdir(path= original_path + \"/face_pixels\")\n",
    "\n",
    "if(not os.path.exists(original_path + \"/face_extracted\")):\n",
    "    os.mkdir(path= original_path + \"/face_extracted\")\n",
    "\n",
    "for folder in os.listdir(original_path):\n",
    "    if(folder != \".DS_Store\" and folder != \"face_pixels\" and folder != \"face_extracted\"):\n",
    "        folder_path = original_path + \"/\" + folder\n",
    "        for image in os.listdir(folder_path):\n",
    "            if(image != \".DS_Store\"):\n",
    "                face_objs = DeepFace.extract_faces(img_path=folder_path + \"/\" + image, detector_backend=\"mtcnn\", align=True, enforce_detection=False)\n",
    "                for face_obj in face_objs:\n",
    "                    if(not os.path.exists(original_path + \"/face_extracted/\" + folder)):\n",
    "                        os.mkdir(path= original_path + \"/face_extracted/\" + folder)\n",
    "\n",
    "                    plt.imsave(original_path + \"/face_extracted/\" + folder + \"/\" + image, face_obj['face'])\n",
    "\n",
    "                    if(not os.path.exists(original_path + \"/face_pixels/\" + folder)):\n",
    "                        os.mkdir(path= original_path + \"/face_pixels/\" + folder)\n",
    "    \n",
    "                    np.save(original_path + \"/face_pixels/\" + folder + \"/\" + image.split(\".\")[0] + \".npy\", face_obj['face'])\n"
   ]
  },
  {
   "cell_type": "code",
   "execution_count": 21,
   "id": "1eb643da",
   "metadata": {},
   "outputs": [],
   "source": [
    "original_path = \"Dataset/Dataset/val\"\n",
    "\n",
    "if(not os.path.exists(original_path + \"/face_pixels\")):\n",
    "    os.mkdir(path= original_path + \"/face_pixels\")\n",
    "\n",
    "if(not os.path.exists(original_path + \"/face_extracted\")):\n",
    "    os.mkdir(path= original_path + \"/face_extracted\")\n",
    "\n",
    "for folder in os.listdir(original_path):\n",
    "    if(folder != \".DS_Store\" and folder != \"face_pixels\" and folder != \"face_extracted\"):\n",
    "        folder_path = original_path + \"/\" + folder\n",
    "        for image in os.listdir(folder_path):\n",
    "            face_objs = DeepFace.extract_faces(img_path=folder_path + \"/\" + image, detector_backend=\"mtcnn\", align=True, enforce_detection=False)\n",
    "            for face_obj in face_objs:\n",
    "                if(not os.path.exists(original_path + \"/face_extracted/\" + folder)):\n",
    "                    os.mkdir(path= original_path + \"/face_extracted/\" + folder)\n",
    "\n",
    "                plt.imsave(original_path + \"/face_extracted/\" + folder + \"/\" + image, face_obj['face'])\n",
    "\n",
    "                if(not os.path.exists(original_path + \"/face_pixels/\" + folder)):\n",
    "                    os.mkdir(path= original_path + \"/face_pixels/\" + folder)\n",
    "\n",
    "                np.save(original_path + \"/face_pixels/\" + folder + \"/\" + image.split(\".\")[0] + \".npy\", face_obj['face'])"
   ]
  },
  {
   "cell_type": "markdown",
   "id": "b997092b",
   "metadata": {},
   "source": [
    "### Embedding Dataset"
   ]
  },
  {
   "cell_type": "code",
   "execution_count": 29,
   "id": "b52d2526",
   "metadata": {},
   "outputs": [
    {
     "name": "stdout",
     "output_type": "stream",
     "text": [
      "helo\n",
      "helo\n"
     ]
    }
   ],
   "source": [
    "face_path = \"Test/Test/face_extracted\"\n",
    "\n",
    "features = []\n",
    "\n",
    "for person in os.listdir(face_path):\n",
    "    person_path = os.path.join(face_path, person)\n",
    "    if os.path.isdir(person_path):\n",
    "        print(\"helo\")\n",
    "        for img_file in os.listdir(person_path):\n",
    "            img_path = os.path.join(person_path, img_file)\n",
    "            img = cv2.imread(img_path)\n",
    "            result = DeepFace.represent(img, model_name=\"Facenet\", enforce_detection=False)\n",
    "            embedding = result[0][\"embedding\"]\n",
    "            features.append({\"person\": person, \"embedding\": embedding})\n",
    "\n",
    "features_df = pd.DataFrame(features)\n",
    "features_df.to_csv(\"Test/Test/face_extracted/features_val.csv\",index=False)"
   ]
  },
  {
   "cell_type": "code",
   "execution_count": 3,
   "id": "02a11f0f",
   "metadata": {},
   "outputs": [
    {
     "data": {
      "text/html": [
       "<div>\n",
       "<style scoped>\n",
       "    .dataframe tbody tr th:only-of-type {\n",
       "        vertical-align: middle;\n",
       "    }\n",
       "\n",
       "    .dataframe tbody tr th {\n",
       "        vertical-align: top;\n",
       "    }\n",
       "\n",
       "    .dataframe thead th {\n",
       "        text-align: right;\n",
       "    }\n",
       "</style>\n",
       "<table border=\"1\" class=\"dataframe\">\n",
       "  <thead>\n",
       "    <tr style=\"text-align: right;\">\n",
       "      <th></th>\n",
       "      <th>person</th>\n",
       "      <th>embedding</th>\n",
       "    </tr>\n",
       "  </thead>\n",
       "  <tbody>\n",
       "    <tr>\n",
       "      <th>0</th>\n",
       "      <td>Person_0</td>\n",
       "      <td>[-0.065240278840065, -0.42443472146987915, -0....</td>\n",
       "    </tr>\n",
       "    <tr>\n",
       "      <th>1</th>\n",
       "      <td>Person_0</td>\n",
       "      <td>[-0.3607255220413208, -0.7096951007843018, -0....</td>\n",
       "    </tr>\n",
       "    <tr>\n",
       "      <th>2</th>\n",
       "      <td>Person_0</td>\n",
       "      <td>[-0.819769024848938, -0.8046450614929199, -0.0...</td>\n",
       "    </tr>\n",
       "    <tr>\n",
       "      <th>3</th>\n",
       "      <td>Person_0</td>\n",
       "      <td>[-0.976752519607544, -1.0356870889663696, -0.2...</td>\n",
       "    </tr>\n",
       "    <tr>\n",
       "      <th>4</th>\n",
       "      <td>Person_0</td>\n",
       "      <td>[-0.6396281719207764, -0.7940641641616821, 0.2...</td>\n",
       "    </tr>\n",
       "    <tr>\n",
       "      <th>...</th>\n",
       "      <td>...</td>\n",
       "      <td>...</td>\n",
       "    </tr>\n",
       "    <tr>\n",
       "      <th>1792</th>\n",
       "      <td>Person_7</td>\n",
       "      <td>[-0.20930936932563782, -0.40932536125183105, -...</td>\n",
       "    </tr>\n",
       "    <tr>\n",
       "      <th>1793</th>\n",
       "      <td>Person_7</td>\n",
       "      <td>[-0.15438316762447357, -0.38950544595718384, -...</td>\n",
       "    </tr>\n",
       "    <tr>\n",
       "      <th>1794</th>\n",
       "      <td>Person_7</td>\n",
       "      <td>[-0.16873298585414886, -0.42339274287223816, -...</td>\n",
       "    </tr>\n",
       "    <tr>\n",
       "      <th>1795</th>\n",
       "      <td>Person_7</td>\n",
       "      <td>[-0.040292881429195404, -0.3078988790512085, -...</td>\n",
       "    </tr>\n",
       "    <tr>\n",
       "      <th>1796</th>\n",
       "      <td>Person_7</td>\n",
       "      <td>[-0.24943524599075317, -0.20309919118881226, -...</td>\n",
       "    </tr>\n",
       "  </tbody>\n",
       "</table>\n",
       "<p>1797 rows × 2 columns</p>\n",
       "</div>"
      ],
      "text/plain": [
       "        person                                          embedding\n",
       "0     Person_0  [-0.065240278840065, -0.42443472146987915, -0....\n",
       "1     Person_0  [-0.3607255220413208, -0.7096951007843018, -0....\n",
       "2     Person_0  [-0.819769024848938, -0.8046450614929199, -0.0...\n",
       "3     Person_0  [-0.976752519607544, -1.0356870889663696, -0.2...\n",
       "4     Person_0  [-0.6396281719207764, -0.7940641641616821, 0.2...\n",
       "...        ...                                                ...\n",
       "1792  Person_7  [-0.20930936932563782, -0.40932536125183105, -...\n",
       "1793  Person_7  [-0.15438316762447357, -0.38950544595718384, -...\n",
       "1794  Person_7  [-0.16873298585414886, -0.42339274287223816, -...\n",
       "1795  Person_7  [-0.040292881429195404, -0.3078988790512085, -...\n",
       "1796  Person_7  [-0.24943524599075317, -0.20309919118881226, -...\n",
       "\n",
       "[1797 rows x 2 columns]"
      ]
     },
     "execution_count": 3,
     "metadata": {},
     "output_type": "execute_result"
    }
   ],
   "source": [
    "features_df"
   ]
  },
  {
   "cell_type": "code",
   "execution_count": 4,
   "id": "bd3e6b47",
   "metadata": {},
   "outputs": [],
   "source": [
    "features_df.to_csv(\"features.csv\", index=False)"
   ]
  },
  {
   "cell_type": "code",
   "execution_count": 14,
   "id": "2f993170",
   "metadata": {},
   "outputs": [
    {
     "name": "stdout",
     "output_type": "stream",
     "text": [
      "(1797, 128)\n"
     ]
    }
   ],
   "source": [
    "standardized_data = StandardScaler().fit_transform(features_df[\"embedding\"].tolist())\n",
    "print(standardized_data.shape)\n"
   ]
  },
  {
   "cell_type": "code",
   "execution_count": 15,
   "id": "8e41131b",
   "metadata": {},
   "outputs": [],
   "source": [
    "labels = features_df[\"person\"].tolist()"
   ]
  },
  {
   "cell_type": "code",
   "execution_count": 16,
   "id": "a629899f",
   "metadata": {},
   "outputs": [],
   "source": [
    "model = TSNE(n_components = 2, random_state = 0)\n"
   ]
  },
  {
   "cell_type": "code",
   "execution_count": 17,
   "id": "b3a912ee",
   "metadata": {},
   "outputs": [],
   "source": [
    "tsne_data = model.fit_transform(standardized_data)"
   ]
  },
  {
   "cell_type": "code",
   "execution_count": 18,
   "id": "7664c4d3",
   "metadata": {},
   "outputs": [
    {
     "data": {
      "text/plain": [
       "array([[ 17.907701 ,  -8.080799 ],\n",
       "       [ 12.048971 , -44.16077  ],\n",
       "       [  2.7890203, -44.11603  ],\n",
       "       ...,\n",
       "       [ 30.943037 ,  -2.5851839],\n",
       "       [ 12.063909 ,  -1.824051 ],\n",
       "       [ -7.504147 , -15.065622 ]], dtype=float32)"
      ]
     },
     "execution_count": 18,
     "metadata": {},
     "output_type": "execute_result"
    }
   ],
   "source": [
    "tsne_data "
   ]
  },
  {
   "cell_type": "code",
   "execution_count": 19,
   "id": "d4bb925f",
   "metadata": {},
   "outputs": [],
   "source": [
    "tsne_data = np.vstack((tsne_data.T, labels)).T\n",
    "tsne_df = pd.DataFrame(data = tsne_data,\n",
    "     columns =(\"Dim_1\", \"Dim_2\", \"person\"))\n",
    "\n",
    "tsne_df.to_csv(\"tsne_results.csv\", index=False)\n"
   ]
  },
  {
   "cell_type": "code",
   "execution_count": 130,
   "id": "1cb392dc",
   "metadata": {},
   "outputs": [],
   "source": [
    "sample_df = tsne_df.sample(25)"
   ]
  }
 ],
 "metadata": {
  "kernelspec": {
   "display_name": ".venv",
   "language": "python",
   "name": "python3"
  },
  "language_info": {
   "codemirror_mode": {
    "name": "ipython",
    "version": 3
   },
   "file_extension": ".py",
   "mimetype": "text/x-python",
   "name": "python",
   "nbconvert_exporter": "python",
   "pygments_lexer": "ipython3",
   "version": "3.12.9"
  }
 },
 "nbformat": 4,
 "nbformat_minor": 5
}
